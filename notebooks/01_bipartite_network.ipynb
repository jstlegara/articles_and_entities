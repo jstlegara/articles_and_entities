{
 "cells": [
  {
   "cell_type": "code",
   "execution_count": 1,
   "id": "3fb6cf9c",
   "metadata": {},
   "outputs": [],
   "source": [
    "import pandas as pd\n",
    "from system_fns import ArticleEntityAnalysis\n",
    "from system_fns import average_weighted_clustering_coefficient"
   ]
  },
  {
   "cell_type": "code",
   "execution_count": 2,
   "id": "72faa45d",
   "metadata": {},
   "outputs": [
    {
     "data": {
      "text/html": [
       "<div>\n",
       "<style scoped>\n",
       "    .dataframe tbody tr th:only-of-type {\n",
       "        vertical-align: middle;\n",
       "    }\n",
       "\n",
       "    .dataframe tbody tr th {\n",
       "        vertical-align: top;\n",
       "    }\n",
       "\n",
       "    .dataframe thead th {\n",
       "        text-align: right;\n",
       "    }\n",
       "</style>\n",
       "<table border=\"1\" class=\"dataframe\">\n",
       "  <thead>\n",
       "    <tr style=\"text-align: right;\">\n",
       "      <th></th>\n",
       "      <th>date</th>\n",
       "      <th>id</th>\n",
       "      <th>unique_entities</th>\n",
       "    </tr>\n",
       "  </thead>\n",
       "  <tbody>\n",
       "    <tr>\n",
       "      <th>0</th>\n",
       "      <td>2022-01-01</td>\n",
       "      <td>1542619</td>\n",
       "      <td>[Typhoon Odette, Arthur Yap]</td>\n",
       "    </tr>\n",
       "    <tr>\n",
       "      <th>1</th>\n",
       "      <td>2022-01-01</td>\n",
       "      <td>1543036</td>\n",
       "      <td>[Marek Drimal, Nureddin Nebati, Tayyip Erdogan]</td>\n",
       "    </tr>\n",
       "    <tr>\n",
       "      <th>2</th>\n",
       "      <td>2022-01-01</td>\n",
       "      <td>1543064</td>\n",
       "      <td>[Ridwan Jamaludin, Perusahaan Listrik Negara, ...</td>\n",
       "    </tr>\n",
       "    <tr>\n",
       "      <th>3</th>\n",
       "      <td>2022-01-02</td>\n",
       "      <td>1543150</td>\n",
       "      <td>[Ramon Lopez, Rodrigo Duterte, Typhoon Odette]</td>\n",
       "    </tr>\n",
       "    <tr>\n",
       "      <th>4</th>\n",
       "      <td>2022-01-03</td>\n",
       "      <td>1544290</td>\n",
       "      <td>[Perusahaan Listrik Negara, Puneet Gupta, Sri ...</td>\n",
       "    </tr>\n",
       "  </tbody>\n",
       "</table>\n",
       "</div>"
      ],
      "text/plain": [
       "         date       id                                    unique_entities\n",
       "0  2022-01-01  1542619                       [Typhoon Odette, Arthur Yap]\n",
       "1  2022-01-01  1543036    [Marek Drimal, Nureddin Nebati, Tayyip Erdogan]\n",
       "2  2022-01-01  1543064  [Ridwan Jamaludin, Perusahaan Listrik Negara, ...\n",
       "3  2022-01-02  1543150     [Ramon Lopez, Rodrigo Duterte, Typhoon Odette]\n",
       "4  2022-01-03  1544290  [Perusahaan Listrik Negara, Puneet Gupta, Sri ..."
      ]
     },
     "execution_count": 2,
     "metadata": {},
     "output_type": "execute_result"
    }
   ],
   "source": [
    "df = pd.read_csv('rappler-business-with-ner-timestep-sentiment-score.csv')\n",
    "df = df[['date', 'id', 'unique_entities']]\n",
    "df['date'] = pd.to_datetime(df['date']).dt.date\n",
    "df['unique_entities'] = [eval(l) for l in df['unique_entities']]\n",
    "df = df.sort_values('date')\n",
    "df.head()"
   ]
  },
  {
   "cell_type": "code",
   "execution_count": 3,
   "id": "8bfb48b0",
   "metadata": {},
   "outputs": [
    {
     "name": "stdout",
     "output_type": "stream",
     "text": [
      "Number of unique articles: 2871\n",
      "Earliest datetime record: 2022-01-01\n",
      "Latest datetime record: 2023-07-22\n"
     ]
    },
    {
     "data": {
      "text/plain": [
       "date               object\n",
       "id                  int64\n",
       "unique_entities    object\n",
       "dtype: object"
      ]
     },
     "execution_count": 3,
     "metadata": {},
     "output_type": "execute_result"
    }
   ],
   "source": [
    "print(\"Number of unique articles:\", df['id'].nunique())\n",
    "print(\"Earliest datetime record:\", df['date'].min())\n",
    "print(\"Latest datetime record:\", df['date'].max())\n",
    "df.dtypes"
   ]
  },
  {
   "cell_type": "code",
   "execution_count": 4,
   "id": "266d6974",
   "metadata": {},
   "outputs": [
    {
     "data": {
      "text/html": [
       "<div>\n",
       "<style scoped>\n",
       "    .dataframe tbody tr th:only-of-type {\n",
       "        vertical-align: middle;\n",
       "    }\n",
       "\n",
       "    .dataframe tbody tr th {\n",
       "        vertical-align: top;\n",
       "    }\n",
       "\n",
       "    .dataframe thead th {\n",
       "        text-align: right;\n",
       "    }\n",
       "</style>\n",
       "<table border=\"1\" class=\"dataframe\">\n",
       "  <thead>\n",
       "    <tr style=\"text-align: right;\">\n",
       "      <th></th>\n",
       "      <th>date</th>\n",
       "      <th>id</th>\n",
       "      <th>unique_entities</th>\n",
       "    </tr>\n",
       "  </thead>\n",
       "  <tbody>\n",
       "    <tr>\n",
       "      <th>0</th>\n",
       "      <td>2022-01-01</td>\n",
       "      <td>1542619</td>\n",
       "      <td>[Typhoon Odette, Arthur Yap]</td>\n",
       "    </tr>\n",
       "    <tr>\n",
       "      <th>1</th>\n",
       "      <td>2022-01-01</td>\n",
       "      <td>1543036</td>\n",
       "      <td>[Marek Drimal, Nureddin Nebati, Tayyip Erdogan]</td>\n",
       "    </tr>\n",
       "    <tr>\n",
       "      <th>2</th>\n",
       "      <td>2022-01-01</td>\n",
       "      <td>1543064</td>\n",
       "      <td>[Ridwan Jamaludin, Perusahaan Listrik Negara, ...</td>\n",
       "    </tr>\n",
       "    <tr>\n",
       "      <th>3</th>\n",
       "      <td>2022-01-02</td>\n",
       "      <td>1543150</td>\n",
       "      <td>[Ramon Lopez, Rodrigo Duterte, Typhoon Odette]</td>\n",
       "    </tr>\n",
       "    <tr>\n",
       "      <th>4</th>\n",
       "      <td>2022-01-03</td>\n",
       "      <td>1544290</td>\n",
       "      <td>[Perusahaan Listrik Negara, Puneet Gupta, Sri ...</td>\n",
       "    </tr>\n",
       "    <tr>\n",
       "      <th>5</th>\n",
       "      <td>2022-01-04</td>\n",
       "      <td>1545021</td>\n",
       "      <td>[Perusahaan Listrik Negara, Sabrin Chowdhury, ...</td>\n",
       "    </tr>\n",
       "    <tr>\n",
       "      <th>6</th>\n",
       "      <td>2022-01-05</td>\n",
       "      <td>1545089</td>\n",
       "      <td>[Rodrigo Duterte, Benjamin Diokno, Karl Chua, ...</td>\n",
       "    </tr>\n",
       "    <tr>\n",
       "      <th>7</th>\n",
       "      <td>2022-01-05</td>\n",
       "      <td>1545338</td>\n",
       "      <td>[Jim Cain, Mary Barra, Randy Parker, Jack Hollis]</td>\n",
       "    </tr>\n",
       "    <tr>\n",
       "      <th>8</th>\n",
       "      <td>2022-01-05</td>\n",
       "      <td>1545375</td>\n",
       "      <td>[Kristalina Georgieva, Gerry Rice, Joe Biden]</td>\n",
       "    </tr>\n",
       "    <tr>\n",
       "      <th>9</th>\n",
       "      <td>2022-01-05</td>\n",
       "      <td>1545834</td>\n",
       "      <td>[Perusahaan Listrik Negara, Erick Thohir, Muha...</td>\n",
       "    </tr>\n",
       "    <tr>\n",
       "      <th>10</th>\n",
       "      <td>2022-01-05</td>\n",
       "      <td>1545857</td>\n",
       "      <td>[Eric Huang, Tseng Hou jen]</td>\n",
       "    </tr>\n",
       "  </tbody>\n",
       "</table>\n",
       "</div>"
      ],
      "text/plain": [
       "          date       id                                    unique_entities\n",
       "0   2022-01-01  1542619                       [Typhoon Odette, Arthur Yap]\n",
       "1   2022-01-01  1543036    [Marek Drimal, Nureddin Nebati, Tayyip Erdogan]\n",
       "2   2022-01-01  1543064  [Ridwan Jamaludin, Perusahaan Listrik Negara, ...\n",
       "3   2022-01-02  1543150     [Ramon Lopez, Rodrigo Duterte, Typhoon Odette]\n",
       "4   2022-01-03  1544290  [Perusahaan Listrik Negara, Puneet Gupta, Sri ...\n",
       "5   2022-01-04  1545021  [Perusahaan Listrik Negara, Sabrin Chowdhury, ...\n",
       "6   2022-01-05  1545089  [Rodrigo Duterte, Benjamin Diokno, Karl Chua, ...\n",
       "7   2022-01-05  1545338  [Jim Cain, Mary Barra, Randy Parker, Jack Hollis]\n",
       "8   2022-01-05  1545375      [Kristalina Georgieva, Gerry Rice, Joe Biden]\n",
       "9   2022-01-05  1545834  [Perusahaan Listrik Negara, Erick Thohir, Muha...\n",
       "10  2022-01-05  1545857                        [Eric Huang, Tseng Hou jen]"
      ]
     },
     "execution_count": 4,
     "metadata": {},
     "output_type": "execute_result"
    }
   ],
   "source": [
    "trial = df.query(\"date <= @pd.to_datetime('2022-01-05').date()\")\n",
    "trial"
   ]
  },
  {
   "cell_type": "code",
   "execution_count": 5,
   "id": "907b27cf",
   "metadata": {},
   "outputs": [],
   "source": [
    "sample = ArticleEntityAnalysis(trial)"
   ]
  },
  {
   "cell_type": "code",
   "execution_count": 6,
   "id": "839cc4ff",
   "metadata": {},
   "outputs": [
    {
     "data": {
      "text/html": [
       "<div>\n",
       "<style scoped>\n",
       "    .dataframe tbody tr th:only-of-type {\n",
       "        vertical-align: middle;\n",
       "    }\n",
       "\n",
       "    .dataframe tbody tr th {\n",
       "        vertical-align: top;\n",
       "    }\n",
       "\n",
       "    .dataframe thead th {\n",
       "        text-align: right;\n",
       "    }\n",
       "</style>\n",
       "<table border=\"1\" class=\"dataframe\">\n",
       "  <thead>\n",
       "    <tr style=\"text-align: right;\">\n",
       "      <th></th>\n",
       "      <th>date</th>\n",
       "      <th>id</th>\n",
       "      <th>unique_entities</th>\n",
       "    </tr>\n",
       "  </thead>\n",
       "  <tbody>\n",
       "    <tr>\n",
       "      <th>0</th>\n",
       "      <td>2022-01-01</td>\n",
       "      <td>1542619</td>\n",
       "      <td>[Typhoon Odette, Arthur Yap]</td>\n",
       "    </tr>\n",
       "    <tr>\n",
       "      <th>1</th>\n",
       "      <td>2022-01-01</td>\n",
       "      <td>1543036</td>\n",
       "      <td>[Marek Drimal, Nureddin Nebati, Tayyip Erdogan]</td>\n",
       "    </tr>\n",
       "    <tr>\n",
       "      <th>2</th>\n",
       "      <td>2022-01-01</td>\n",
       "      <td>1543064</td>\n",
       "      <td>[Ridwan Jamaludin, Perusahaan Listrik Negara, ...</td>\n",
       "    </tr>\n",
       "    <tr>\n",
       "      <th>3</th>\n",
       "      <td>2022-01-02</td>\n",
       "      <td>1543150</td>\n",
       "      <td>[Ramon Lopez, Rodrigo Duterte, Typhoon Odette]</td>\n",
       "    </tr>\n",
       "    <tr>\n",
       "      <th>4</th>\n",
       "      <td>2022-01-03</td>\n",
       "      <td>1544290</td>\n",
       "      <td>[Perusahaan Listrik Negara, Puneet Gupta, Sri ...</td>\n",
       "    </tr>\n",
       "    <tr>\n",
       "      <th>5</th>\n",
       "      <td>2022-01-04</td>\n",
       "      <td>1545021</td>\n",
       "      <td>[Perusahaan Listrik Negara, Sabrin Chowdhury, ...</td>\n",
       "    </tr>\n",
       "    <tr>\n",
       "      <th>6</th>\n",
       "      <td>2022-01-05</td>\n",
       "      <td>1545089</td>\n",
       "      <td>[Rodrigo Duterte, Benjamin Diokno, Karl Chua, ...</td>\n",
       "    </tr>\n",
       "    <tr>\n",
       "      <th>7</th>\n",
       "      <td>2022-01-05</td>\n",
       "      <td>1545338</td>\n",
       "      <td>[Jim Cain, Mary Barra, Randy Parker, Jack Hollis]</td>\n",
       "    </tr>\n",
       "    <tr>\n",
       "      <th>8</th>\n",
       "      <td>2022-01-05</td>\n",
       "      <td>1545375</td>\n",
       "      <td>[Kristalina Georgieva, Gerry Rice, Joe Biden]</td>\n",
       "    </tr>\n",
       "    <tr>\n",
       "      <th>9</th>\n",
       "      <td>2022-01-05</td>\n",
       "      <td>1545834</td>\n",
       "      <td>[Perusahaan Listrik Negara, Erick Thohir, Muha...</td>\n",
       "    </tr>\n",
       "    <tr>\n",
       "      <th>10</th>\n",
       "      <td>2022-01-05</td>\n",
       "      <td>1545857</td>\n",
       "      <td>[Eric Huang, Tseng Hou jen]</td>\n",
       "    </tr>\n",
       "  </tbody>\n",
       "</table>\n",
       "</div>"
      ],
      "text/plain": [
       "          date       id                                    unique_entities\n",
       "0   2022-01-01  1542619                       [Typhoon Odette, Arthur Yap]\n",
       "1   2022-01-01  1543036    [Marek Drimal, Nureddin Nebati, Tayyip Erdogan]\n",
       "2   2022-01-01  1543064  [Ridwan Jamaludin, Perusahaan Listrik Negara, ...\n",
       "3   2022-01-02  1543150     [Ramon Lopez, Rodrigo Duterte, Typhoon Odette]\n",
       "4   2022-01-03  1544290  [Perusahaan Listrik Negara, Puneet Gupta, Sri ...\n",
       "5   2022-01-04  1545021  [Perusahaan Listrik Negara, Sabrin Chowdhury, ...\n",
       "6   2022-01-05  1545089  [Rodrigo Duterte, Benjamin Diokno, Karl Chua, ...\n",
       "7   2022-01-05  1545338  [Jim Cain, Mary Barra, Randy Parker, Jack Hollis]\n",
       "8   2022-01-05  1545375      [Kristalina Georgieva, Gerry Rice, Joe Biden]\n",
       "9   2022-01-05  1545834  [Perusahaan Listrik Negara, Erick Thohir, Muha...\n",
       "10  2022-01-05  1545857                        [Eric Huang, Tseng Hou jen]"
      ]
     },
     "execution_count": 6,
     "metadata": {},
     "output_type": "execute_result"
    }
   ],
   "source": [
    "sample.df"
   ]
  },
  {
   "cell_type": "code",
   "execution_count": 7,
   "id": "e1b0a9ef",
   "metadata": {},
   "outputs": [
    {
     "data": {
      "text/plain": [
       "0.18944000470314598"
      ]
     },
     "execution_count": 7,
     "metadata": {},
     "output_type": "execute_result"
    }
   ],
   "source": [
    "sample.aggregate_rolling_window_analysis(\n",
    "    function=average_weighted_clustering_coefficient,\n",
    "    window_panel=1,\n",
    "    mean=True)"
   ]
  },
  {
   "cell_type": "code",
   "execution_count": 8,
   "id": "29acdadf",
   "metadata": {},
   "outputs": [
    {
     "data": {
      "text/plain": [
       "0.0"
      ]
     },
     "execution_count": 8,
     "metadata": {},
     "output_type": "execute_result"
    }
   ],
   "source": [
    "sample.aggregate_rolling_window_analysis(\n",
    "    function=average_weighted_clustering_coefficient,\n",
    "    window_panel=5,\n",
    "    mean=True)"
   ]
  },
  {
   "cell_type": "code",
   "execution_count": 9,
   "id": "1534a630",
   "metadata": {},
   "outputs": [
    {
     "data": {
      "text/plain": [
       "[0.0, 0.0, 0.0, 0.0, 0.0]"
      ]
     },
     "execution_count": 9,
     "metadata": {},
     "output_type": "execute_result"
    }
   ],
   "source": [
    "sample.aggregate_rolling_window_analysis(\n",
    "    function=average_weighted_clustering_coefficient,\n",
    "    window_panel=5,\n",
    "    mean=False)"
   ]
  },
  {
   "cell_type": "code",
   "execution_count": 10,
   "id": "5a6dafee",
   "metadata": {},
   "outputs": [
    {
     "data": {
      "application/vnd.jupyter.widget-view+json": {
       "model_id": "857a7091faf6493b99315bf48606ffdb",
       "version_major": 2,
       "version_minor": 0
      },
      "text/plain": [
       "  0%|          | 0/5 [00:00<?, ?it/s]"
      ]
     },
     "metadata": {},
     "output_type": "display_data"
    },
    {
     "data": {
      "text/plain": [
       "[0.18944000470314598, 0.2632767445114505, 0.10902040405269826, 0.0, 0.0]"
      ]
     },
     "execution_count": 10,
     "metadata": {},
     "output_type": "execute_result"
    }
   ],
   "source": [
    "sample.aggregate_rolling_window_analysis(\n",
    "    function=average_weighted_clustering_coefficient,\n",
    "    window_panel=(1,5))"
   ]
  },
  {
   "cell_type": "code",
   "execution_count": 11,
   "id": "b14ebb56",
   "metadata": {},
   "outputs": [],
   "source": [
    "whole = ArticleEntityAnalysis(df)"
   ]
  },
  {
   "cell_type": "code",
   "execution_count": 12,
   "id": "b59d8648",
   "metadata": {},
   "outputs": [
    {
     "data": {
      "text/plain": [
       "0.05565409461143574"
      ]
     },
     "execution_count": 12,
     "metadata": {},
     "output_type": "execute_result"
    }
   ],
   "source": [
    "whole.aggregate_rolling_window_analysis(\n",
    "    function=average_weighted_clustering_coefficient,\n",
    "    window_panel=1)"
   ]
  },
  {
   "cell_type": "code",
   "execution_count": 13,
   "id": "35fd0a45",
   "metadata": {},
   "outputs": [
    {
     "data": {
      "text/plain": [
       "[0.0553089616468212,\n",
       " 0.055308637771376574,\n",
       " 0.055306505125789676,\n",
       " 0.055346566498120205,\n",
       " 0.055464596560533236,\n",
       " 0.05546432931465251,\n",
       " 0.05552205456621853,\n",
       " 0.05558781412476494,\n",
       " 0.05550094413213703,\n",
       " 0.05553605823315546,\n",
       " 0.05550735095328261,\n",
       " 0.055510484300419764,\n",
       " 0.05552680830649795,\n",
       " 0.0556193689293721,\n",
       " 0.05561913362610217,\n",
       " 0.05561913362610217,\n",
       " 0.05561913362610217,\n",
       " 0.05560530731434977,\n",
       " 0.055644112365016964,\n",
       " 0.05555858489625754,\n",
       " 0.055536996774035875,\n",
       " 0.05556760200311406,\n",
       " 0.05558747956520915,\n",
       " 0.05558747956520915,\n",
       " 0.05565468430902367,\n",
       " 0.055667190758601916,\n",
       " 0.055774243743527456,\n",
       " 0.05590011759595366,\n",
       " 0.055847231955744925,\n",
       " 0.05584471652358]"
      ]
     },
     "execution_count": 13,
     "metadata": {},
     "output_type": "execute_result"
    }
   ],
   "source": [
    "whole.aggregate_rolling_window_analysis(\n",
    "    function=average_weighted_clustering_coefficient,\n",
    "    window_panel=30,\n",
    "    mean=False)"
   ]
  },
  {
   "cell_type": "code",
   "execution_count": 14,
   "id": "942f4edd",
   "metadata": {},
   "outputs": [
    {
     "data": {
      "application/vnd.jupyter.widget-view+json": {
       "model_id": "7cafdc29aaa44e7da91801a6f3ebc248",
       "version_major": 2,
       "version_minor": 0
      },
      "text/plain": [
       "  0%|          | 0/5 [00:00<?, ?it/s]"
      ]
     },
     "metadata": {},
     "output_type": "display_data"
    },
    {
     "data": {
      "text/plain": [
       "[[0.05565409461143574],\n",
       " [0.05564944354448933, 0.055654011018121674],\n",
       " [0.055663641352023646, 0.055649360653976986, 0.055651821095077984],\n",
       " [0.0556710869317348,\n",
       "  0.055663900527064,\n",
       "  0.0556472483531164,\n",
       "  0.05562641261863767],\n",
       " [0.05558230562896801,\n",
       "  0.055671354180217104,\n",
       "  0.055661792563924964,\n",
       "  0.055621829412027424,\n",
       "  0.055609232214344634]]"
      ]
     },
     "execution_count": 14,
     "metadata": {},
     "output_type": "execute_result"
    }
   ],
   "source": [
    "whole.aggregate_rolling_window_analysis(\n",
    "    function=average_weighted_clustering_coefficient,\n",
    "    window_panel=(1,5),\n",
    "    mean=False)"
   ]
  },
  {
   "cell_type": "code",
   "execution_count": 15,
   "id": "5132b9d7",
   "metadata": {},
   "outputs": [
    {
     "name": "stderr",
     "output_type": "stream",
     "text": [
      "/Users/johnsolomonlegara/Documents/Github/articles_and_entities_network/system_fns.py:221: FutureWarning: Comparison of Timestamp with datetime.date is deprecated in order to match the standard library behavior. In a future version these will be considered non-comparable. Use 'ts == pd.Timestamp(date)' or 'ts.date() == date' instead.\n",
      "  results[value].sort()\n"
     ]
    }
   ],
   "source": [
    "whole.element_rolling_window_degree_analysis(plot=True)"
   ]
  },
  {
   "cell_type": "code",
   "execution_count": null,
   "id": "2e2e8492",
   "metadata": {},
   "outputs": [],
   "source": []
  }
 ],
 "metadata": {
  "kernelspec": {
   "display_name": "Python 3 (ipykernel)",
   "language": "python",
   "name": "python3"
  },
  "language_info": {
   "codemirror_mode": {
    "name": "ipython",
    "version": 3
   },
   "file_extension": ".py",
   "mimetype": "text/x-python",
   "name": "python",
   "nbconvert_exporter": "python",
   "pygments_lexer": "ipython3",
   "version": "3.9.12"
  }
 },
 "nbformat": 4,
 "nbformat_minor": 5
}
