{
 "cells": [
  {
   "cell_type": "code",
   "execution_count": 1,
   "id": "3fb6cf9c",
   "metadata": {},
   "outputs": [],
   "source": [
    "import pandas as pd\n",
    "from system_fns import ArticleEntityAnalysis\n",
    "from system_fns import average_weighted_clustering_coefficient"
   ]
  },
  {
   "cell_type": "code",
   "execution_count": 1,
   "id": "8bac8b36",
   "metadata": {},
   "outputs": [],
   "source": [
    "import pandas as pd\n",
    "import numpy as np\n",
    "import matplotlib.pyplot as plt\n",
    "import collections\n",
    "from itertools import chain\n",
    "from datetime import datetime, timedelta\n",
    "import networkx as nx\n",
    "from networkx.algorithms import bipartite\n",
    "from tqdm.notebook import tqdm\n",
    "import imageio\n",
    "import os"
   ]
  },
  {
   "cell_type": "code",
   "execution_count": 2,
   "id": "72faa45d",
   "metadata": {},
   "outputs": [
    {
     "data": {
      "text/html": [
       "<div>\n",
       "<style scoped>\n",
       "    .dataframe tbody tr th:only-of-type {\n",
       "        vertical-align: middle;\n",
       "    }\n",
       "\n",
       "    .dataframe tbody tr th {\n",
       "        vertical-align: top;\n",
       "    }\n",
       "\n",
       "    .dataframe thead th {\n",
       "        text-align: right;\n",
       "    }\n",
       "</style>\n",
       "<table border=\"1\" class=\"dataframe\">\n",
       "  <thead>\n",
       "    <tr style=\"text-align: right;\">\n",
       "      <th></th>\n",
       "      <th>date</th>\n",
       "      <th>id</th>\n",
       "      <th>unique_entities</th>\n",
       "    </tr>\n",
       "  </thead>\n",
       "  <tbody>\n",
       "    <tr>\n",
       "      <th>0</th>\n",
       "      <td>2022-01-01</td>\n",
       "      <td>1542619</td>\n",
       "      <td>[Typhoon Odette, Arthur Yap]</td>\n",
       "    </tr>\n",
       "    <tr>\n",
       "      <th>1</th>\n",
       "      <td>2022-01-01</td>\n",
       "      <td>1543036</td>\n",
       "      <td>[Marek Drimal, Nureddin Nebati, Tayyip Erdogan]</td>\n",
       "    </tr>\n",
       "    <tr>\n",
       "      <th>2</th>\n",
       "      <td>2022-01-01</td>\n",
       "      <td>1543064</td>\n",
       "      <td>[Ridwan Jamaludin, Perusahaan Listrik Negara, ...</td>\n",
       "    </tr>\n",
       "    <tr>\n",
       "      <th>3</th>\n",
       "      <td>2022-01-02</td>\n",
       "      <td>1543150</td>\n",
       "      <td>[Ramon Lopez, Rodrigo Duterte, Typhoon Odette]</td>\n",
       "    </tr>\n",
       "    <tr>\n",
       "      <th>4</th>\n",
       "      <td>2022-01-03</td>\n",
       "      <td>1544290</td>\n",
       "      <td>[Perusahaan Listrik Negara, Puneet Gupta, Sri ...</td>\n",
       "    </tr>\n",
       "  </tbody>\n",
       "</table>\n",
       "</div>"
      ],
      "text/plain": [
       "         date       id                                    unique_entities\n",
       "0  2022-01-01  1542619                       [Typhoon Odette, Arthur Yap]\n",
       "1  2022-01-01  1543036    [Marek Drimal, Nureddin Nebati, Tayyip Erdogan]\n",
       "2  2022-01-01  1543064  [Ridwan Jamaludin, Perusahaan Listrik Negara, ...\n",
       "3  2022-01-02  1543150     [Ramon Lopez, Rodrigo Duterte, Typhoon Odette]\n",
       "4  2022-01-03  1544290  [Perusahaan Listrik Negara, Puneet Gupta, Sri ..."
      ]
     },
     "execution_count": 2,
     "metadata": {},
     "output_type": "execute_result"
    }
   ],
   "source": [
    "df = pd.read_csv('rappler-business-with-ner-timestep-sentiment-score.csv')\n",
    "df = df[['date', 'id', 'unique_entities']]\n",
    "df['date'] = pd.to_datetime(df['date']).dt.date\n",
    "df['unique_entities'] = [eval(l) for l in df['unique_entities']]\n",
    "df = df.sort_values('date')\n",
    "df.head()"
   ]
  },
  {
   "cell_type": "code",
   "execution_count": 3,
   "id": "8bfb48b0",
   "metadata": {},
   "outputs": [
    {
     "name": "stdout",
     "output_type": "stream",
     "text": [
      "Number of unique articles: 2871\n",
      "Earliest datetime record: 2022-01-01\n",
      "Latest datetime record: 2023-07-22\n"
     ]
    },
    {
     "data": {
      "text/plain": [
       "date               object\n",
       "id                  int64\n",
       "unique_entities    object\n",
       "dtype: object"
      ]
     },
     "execution_count": 3,
     "metadata": {},
     "output_type": "execute_result"
    }
   ],
   "source": [
    "print(\"Number of unique articles:\", df['id'].nunique())\n",
    "print(\"Earliest datetime record:\", df['date'].min())\n",
    "print(\"Latest datetime record:\", df['date'].max())\n",
    "df.dtypes"
   ]
  },
  {
   "cell_type": "code",
   "execution_count": 4,
   "id": "266d6974",
   "metadata": {},
   "outputs": [
    {
     "data": {
      "text/html": [
       "<div>\n",
       "<style scoped>\n",
       "    .dataframe tbody tr th:only-of-type {\n",
       "        vertical-align: middle;\n",
       "    }\n",
       "\n",
       "    .dataframe tbody tr th {\n",
       "        vertical-align: top;\n",
       "    }\n",
       "\n",
       "    .dataframe thead th {\n",
       "        text-align: right;\n",
       "    }\n",
       "</style>\n",
       "<table border=\"1\" class=\"dataframe\">\n",
       "  <thead>\n",
       "    <tr style=\"text-align: right;\">\n",
       "      <th></th>\n",
       "      <th>date</th>\n",
       "      <th>id</th>\n",
       "      <th>unique_entities</th>\n",
       "    </tr>\n",
       "  </thead>\n",
       "  <tbody>\n",
       "    <tr>\n",
       "      <th>0</th>\n",
       "      <td>2022-01-01</td>\n",
       "      <td>1542619</td>\n",
       "      <td>[Typhoon Odette, Arthur Yap]</td>\n",
       "    </tr>\n",
       "    <tr>\n",
       "      <th>1</th>\n",
       "      <td>2022-01-01</td>\n",
       "      <td>1543036</td>\n",
       "      <td>[Marek Drimal, Nureddin Nebati, Tayyip Erdogan]</td>\n",
       "    </tr>\n",
       "    <tr>\n",
       "      <th>2</th>\n",
       "      <td>2022-01-01</td>\n",
       "      <td>1543064</td>\n",
       "      <td>[Ridwan Jamaludin, Perusahaan Listrik Negara, ...</td>\n",
       "    </tr>\n",
       "    <tr>\n",
       "      <th>3</th>\n",
       "      <td>2022-01-02</td>\n",
       "      <td>1543150</td>\n",
       "      <td>[Ramon Lopez, Rodrigo Duterte, Typhoon Odette]</td>\n",
       "    </tr>\n",
       "    <tr>\n",
       "      <th>4</th>\n",
       "      <td>2022-01-03</td>\n",
       "      <td>1544290</td>\n",
       "      <td>[Perusahaan Listrik Negara, Puneet Gupta, Sri ...</td>\n",
       "    </tr>\n",
       "    <tr>\n",
       "      <th>5</th>\n",
       "      <td>2022-01-04</td>\n",
       "      <td>1545021</td>\n",
       "      <td>[Perusahaan Listrik Negara, Sabrin Chowdhury, ...</td>\n",
       "    </tr>\n",
       "    <tr>\n",
       "      <th>6</th>\n",
       "      <td>2022-01-05</td>\n",
       "      <td>1545089</td>\n",
       "      <td>[Rodrigo Duterte, Benjamin Diokno, Karl Chua, ...</td>\n",
       "    </tr>\n",
       "    <tr>\n",
       "      <th>7</th>\n",
       "      <td>2022-01-05</td>\n",
       "      <td>1545338</td>\n",
       "      <td>[Jim Cain, Mary Barra, Randy Parker, Jack Hollis]</td>\n",
       "    </tr>\n",
       "    <tr>\n",
       "      <th>8</th>\n",
       "      <td>2022-01-05</td>\n",
       "      <td>1545375</td>\n",
       "      <td>[Kristalina Georgieva, Gerry Rice, Joe Biden]</td>\n",
       "    </tr>\n",
       "    <tr>\n",
       "      <th>9</th>\n",
       "      <td>2022-01-05</td>\n",
       "      <td>1545834</td>\n",
       "      <td>[Perusahaan Listrik Negara, Erick Thohir, Muha...</td>\n",
       "    </tr>\n",
       "    <tr>\n",
       "      <th>10</th>\n",
       "      <td>2022-01-05</td>\n",
       "      <td>1545857</td>\n",
       "      <td>[Eric Huang, Tseng Hou jen]</td>\n",
       "    </tr>\n",
       "  </tbody>\n",
       "</table>\n",
       "</div>"
      ],
      "text/plain": [
       "          date       id                                    unique_entities\n",
       "0   2022-01-01  1542619                       [Typhoon Odette, Arthur Yap]\n",
       "1   2022-01-01  1543036    [Marek Drimal, Nureddin Nebati, Tayyip Erdogan]\n",
       "2   2022-01-01  1543064  [Ridwan Jamaludin, Perusahaan Listrik Negara, ...\n",
       "3   2022-01-02  1543150     [Ramon Lopez, Rodrigo Duterte, Typhoon Odette]\n",
       "4   2022-01-03  1544290  [Perusahaan Listrik Negara, Puneet Gupta, Sri ...\n",
       "5   2022-01-04  1545021  [Perusahaan Listrik Negara, Sabrin Chowdhury, ...\n",
       "6   2022-01-05  1545089  [Rodrigo Duterte, Benjamin Diokno, Karl Chua, ...\n",
       "7   2022-01-05  1545338  [Jim Cain, Mary Barra, Randy Parker, Jack Hollis]\n",
       "8   2022-01-05  1545375      [Kristalina Georgieva, Gerry Rice, Joe Biden]\n",
       "9   2022-01-05  1545834  [Perusahaan Listrik Negara, Erick Thohir, Muha...\n",
       "10  2022-01-05  1545857                        [Eric Huang, Tseng Hou jen]"
      ]
     },
     "execution_count": 4,
     "metadata": {},
     "output_type": "execute_result"
    }
   ],
   "source": [
    "trial = df.query(\"date <= @pd.to_datetime('2022-01-05').date()\")\n",
    "trial"
   ]
  },
  {
   "cell_type": "code",
   "execution_count": 5,
   "id": "bbf243d0",
   "metadata": {},
   "outputs": [],
   "source": [
    "analyze = ArticleEntityAnalysis(df)"
   ]
  },
  {
   "cell_type": "code",
   "execution_count": null,
   "id": "4ddfef32",
   "metadata": {},
   "outputs": [
    {
     "data": {
      "application/vnd.jupyter.widget-view+json": {
       "model_id": "59616f13fb744a3f8f04c41c4a95a373",
       "version_major": 2,
       "version_minor": 0
      },
      "text/plain": [
       "  0%|          | 0/10 [00:00<?, ?it/s]"
      ]
     },
     "metadata": {},
     "output_type": "display_data"
    }
   ],
   "source": [
    "analyze.rolling_window_analysis(function=average_weighted_clustering_coefficient,\n",
    "                                window=(1,10),\n",
    "                                kind='article')"
   ]
  },
  {
   "cell_type": "code",
   "execution_count": null,
   "id": "ed4e2395",
   "metadata": {},
   "outputs": [],
   "source": [
    "analyze.rolling_window_analysis(function=average_weighted_clustering_coefficient,\n",
    "                                window=(1,10),\n",
    "                                kind='entity')"
   ]
  },
  {
   "cell_type": "code",
   "execution_count": null,
   "id": "3bed61d0",
   "metadata": {},
   "outputs": [],
   "source": []
  }
 ],
 "metadata": {
  "kernelspec": {
   "display_name": "Python 3 (ipykernel)",
   "language": "python",
   "name": "python3"
  },
  "language_info": {
   "codemirror_mode": {
    "name": "ipython",
    "version": 3
   },
   "file_extension": ".py",
   "mimetype": "text/x-python",
   "name": "python",
   "nbconvert_exporter": "python",
   "pygments_lexer": "ipython3",
   "version": "3.9.12"
  }
 },
 "nbformat": 4,
 "nbformat_minor": 5
}
