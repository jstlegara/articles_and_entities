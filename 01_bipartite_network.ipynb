{
 "cells": [
  {
   "cell_type": "code",
   "execution_count": 1,
   "id": "3fb6cf9c",
   "metadata": {},
   "outputs": [],
   "source": [
    "import pandas as pd\n",
    "from system_fns import ArticleEntityAnalysis\n",
    "from system_fns import average_weighted_clustering_coefficient"
   ]
  },
  {
   "cell_type": "code",
   "execution_count": 2,
   "id": "72faa45d",
   "metadata": {},
   "outputs": [
    {
     "data": {
      "text/html": [
       "<div>\n",
       "<style scoped>\n",
       "    .dataframe tbody tr th:only-of-type {\n",
       "        vertical-align: middle;\n",
       "    }\n",
       "\n",
       "    .dataframe tbody tr th {\n",
       "        vertical-align: top;\n",
       "    }\n",
       "\n",
       "    .dataframe thead th {\n",
       "        text-align: right;\n",
       "    }\n",
       "</style>\n",
       "<table border=\"1\" class=\"dataframe\">\n",
       "  <thead>\n",
       "    <tr style=\"text-align: right;\">\n",
       "      <th></th>\n",
       "      <th>date</th>\n",
       "      <th>id</th>\n",
       "      <th>unique_entities</th>\n",
       "    </tr>\n",
       "  </thead>\n",
       "  <tbody>\n",
       "    <tr>\n",
       "      <th>816</th>\n",
       "      <td>2023-01-01</td>\n",
       "      <td>2191765</td>\n",
       "      <td>[Jaime Bautista, Bongbong Marcos, Manuel Tamay...</td>\n",
       "    </tr>\n",
       "    <tr>\n",
       "      <th>815</th>\n",
       "      <td>2023-01-02</td>\n",
       "      <td>2191867</td>\n",
       "      <td>[Manny Pangilinan, Jaime Bautista]</td>\n",
       "    </tr>\n",
       "    <tr>\n",
       "      <th>814</th>\n",
       "      <td>2023-01-02</td>\n",
       "      <td>2192002</td>\n",
       "      <td>[Jaime Bautista, Rodrigo Duterte, Manuel Tamay...</td>\n",
       "    </tr>\n",
       "    <tr>\n",
       "      <th>811</th>\n",
       "      <td>2023-01-03</td>\n",
       "      <td>2192961</td>\n",
       "      <td>[Bongbong Marcos, Rodrigo Duterte]</td>\n",
       "    </tr>\n",
       "    <tr>\n",
       "      <th>813</th>\n",
       "      <td>2023-01-03</td>\n",
       "      <td>2192645</td>\n",
       "      <td>[Ben Lee, Alidad Tash]</td>\n",
       "    </tr>\n",
       "  </tbody>\n",
       "</table>\n",
       "</div>"
      ],
      "text/plain": [
       "           date       id                                    unique_entities\n",
       "816  2023-01-01  2191765  [Jaime Bautista, Bongbong Marcos, Manuel Tamay...\n",
       "815  2023-01-02  2191867                 [Manny Pangilinan, Jaime Bautista]\n",
       "814  2023-01-02  2192002  [Jaime Bautista, Rodrigo Duterte, Manuel Tamay...\n",
       "811  2023-01-03  2192961                 [Bongbong Marcos, Rodrigo Duterte]\n",
       "813  2023-01-03  2192645                             [Ben Lee, Alidad Tash]"
      ]
     },
     "execution_count": 2,
     "metadata": {},
     "output_type": "execute_result"
    }
   ],
   "source": [
    "df = pd.read_csv('business.csv')\n",
    "df = df[['date', 'id', 'unique_entities']]\n",
    "df['date'] = pd.to_datetime(df['date']).dt.date\n",
    "df['unique_entities'] = [eval(l) for l in df['unique_entities']]\n",
    "df = df.sort_values('date')\n",
    "df.head()"
   ]
  },
  {
   "cell_type": "code",
   "execution_count": 3,
   "id": "8bfb48b0",
   "metadata": {},
   "outputs": [
    {
     "name": "stdout",
     "output_type": "stream",
     "text": [
      "Number of unique articles: 817\n",
      "Earliest datetime record: 2023-01-01\n",
      "Latest datetime record: 2023-07-24\n"
     ]
    },
    {
     "data": {
      "text/plain": [
       "date               object\n",
       "id                  int64\n",
       "unique_entities    object\n",
       "dtype: object"
      ]
     },
     "execution_count": 3,
     "metadata": {},
     "output_type": "execute_result"
    }
   ],
   "source": [
    "print(\"Number of unique articles:\", df['id'].nunique())\n",
    "print(\"Earliest datetime record:\", df['date'].min())\n",
    "print(\"Latest datetime record:\", df['date'].max())\n",
    "df.dtypes"
   ]
  },
  {
   "cell_type": "code",
   "execution_count": 4,
   "id": "266d6974",
   "metadata": {},
   "outputs": [
    {
     "data": {
      "text/html": [
       "<div>\n",
       "<style scoped>\n",
       "    .dataframe tbody tr th:only-of-type {\n",
       "        vertical-align: middle;\n",
       "    }\n",
       "\n",
       "    .dataframe tbody tr th {\n",
       "        vertical-align: top;\n",
       "    }\n",
       "\n",
       "    .dataframe thead th {\n",
       "        text-align: right;\n",
       "    }\n",
       "</style>\n",
       "<table border=\"1\" class=\"dataframe\">\n",
       "  <thead>\n",
       "    <tr style=\"text-align: right;\">\n",
       "      <th></th>\n",
       "      <th>date</th>\n",
       "      <th>id</th>\n",
       "      <th>unique_entities</th>\n",
       "    </tr>\n",
       "  </thead>\n",
       "  <tbody>\n",
       "    <tr>\n",
       "      <th>816</th>\n",
       "      <td>2023-01-01</td>\n",
       "      <td>2191765</td>\n",
       "      <td>[Jaime Bautista, Bongbong Marcos, Manuel Tamay...</td>\n",
       "    </tr>\n",
       "    <tr>\n",
       "      <th>815</th>\n",
       "      <td>2023-01-02</td>\n",
       "      <td>2191867</td>\n",
       "      <td>[Manny Pangilinan, Jaime Bautista]</td>\n",
       "    </tr>\n",
       "    <tr>\n",
       "      <th>814</th>\n",
       "      <td>2023-01-02</td>\n",
       "      <td>2192002</td>\n",
       "      <td>[Jaime Bautista, Rodrigo Duterte, Manuel Tamay...</td>\n",
       "    </tr>\n",
       "    <tr>\n",
       "      <th>811</th>\n",
       "      <td>2023-01-03</td>\n",
       "      <td>2192961</td>\n",
       "      <td>[Bongbong Marcos, Rodrigo Duterte]</td>\n",
       "    </tr>\n",
       "    <tr>\n",
       "      <th>813</th>\n",
       "      <td>2023-01-03</td>\n",
       "      <td>2192645</td>\n",
       "      <td>[Ben Lee, Alidad Tash]</td>\n",
       "    </tr>\n",
       "    <tr>\n",
       "      <th>812</th>\n",
       "      <td>2023-01-03</td>\n",
       "      <td>2192871</td>\n",
       "      <td>[Leandro Leviste, Enrique Razon Jr, Manny Pang...</td>\n",
       "    </tr>\n",
       "    <tr>\n",
       "      <th>810</th>\n",
       "      <td>2023-01-04</td>\n",
       "      <td>2193115</td>\n",
       "      <td>[Joyce Lipa, Joarra Solis, Chuchi Fonacier]</td>\n",
       "    </tr>\n",
       "    <tr>\n",
       "      <th>808</th>\n",
       "      <td>2023-01-05</td>\n",
       "      <td>2194645</td>\n",
       "      <td>[Jonathan Yan, Kenneth Chow, Lucy Lu]</td>\n",
       "    </tr>\n",
       "    <tr>\n",
       "      <th>807</th>\n",
       "      <td>2023-01-05</td>\n",
       "      <td>2194666</td>\n",
       "      <td>[Yulia Svyrydenko, Denys Shmyhal, Olena Bilan]</td>\n",
       "    </tr>\n",
       "    <tr>\n",
       "      <th>809</th>\n",
       "      <td>2023-01-05</td>\n",
       "      <td>2193804</td>\n",
       "      <td>[Bongbong Marcos, Nicholas Mapa, Felipe Medall...</td>\n",
       "    </tr>\n",
       "  </tbody>\n",
       "</table>\n",
       "</div>"
      ],
      "text/plain": [
       "           date       id                                    unique_entities\n",
       "816  2023-01-01  2191765  [Jaime Bautista, Bongbong Marcos, Manuel Tamay...\n",
       "815  2023-01-02  2191867                 [Manny Pangilinan, Jaime Bautista]\n",
       "814  2023-01-02  2192002  [Jaime Bautista, Rodrigo Duterte, Manuel Tamay...\n",
       "811  2023-01-03  2192961                 [Bongbong Marcos, Rodrigo Duterte]\n",
       "813  2023-01-03  2192645                             [Ben Lee, Alidad Tash]\n",
       "812  2023-01-03  2192871  [Leandro Leviste, Enrique Razon Jr, Manny Pang...\n",
       "810  2023-01-04  2193115        [Joyce Lipa, Joarra Solis, Chuchi Fonacier]\n",
       "808  2023-01-05  2194645              [Jonathan Yan, Kenneth Chow, Lucy Lu]\n",
       "807  2023-01-05  2194666     [Yulia Svyrydenko, Denys Shmyhal, Olena Bilan]\n",
       "809  2023-01-05  2193804  [Bongbong Marcos, Nicholas Mapa, Felipe Medall..."
      ]
     },
     "execution_count": 4,
     "metadata": {},
     "output_type": "execute_result"
    }
   ],
   "source": [
    "trial = df.query(\"date <= @pd.to_datetime('2023-01-05').date()\")\n",
    "trial"
   ]
  },
  {
   "cell_type": "code",
   "execution_count": 5,
   "id": "907b27cf",
   "metadata": {},
   "outputs": [],
   "source": [
    "sample = ArticleEntityAnalysis(trial)"
   ]
  },
  {
   "cell_type": "code",
   "execution_count": 6,
   "id": "839cc4ff",
   "metadata": {},
   "outputs": [
    {
     "data": {
      "text/html": [
       "<div>\n",
       "<style scoped>\n",
       "    .dataframe tbody tr th:only-of-type {\n",
       "        vertical-align: middle;\n",
       "    }\n",
       "\n",
       "    .dataframe tbody tr th {\n",
       "        vertical-align: top;\n",
       "    }\n",
       "\n",
       "    .dataframe thead th {\n",
       "        text-align: right;\n",
       "    }\n",
       "</style>\n",
       "<table border=\"1\" class=\"dataframe\">\n",
       "  <thead>\n",
       "    <tr style=\"text-align: right;\">\n",
       "      <th></th>\n",
       "      <th>date</th>\n",
       "      <th>id</th>\n",
       "      <th>unique_entities</th>\n",
       "    </tr>\n",
       "  </thead>\n",
       "  <tbody>\n",
       "    <tr>\n",
       "      <th>816</th>\n",
       "      <td>2023-01-01</td>\n",
       "      <td>2191765</td>\n",
       "      <td>[Jaime Bautista, Bongbong Marcos, Manuel Tamay...</td>\n",
       "    </tr>\n",
       "    <tr>\n",
       "      <th>815</th>\n",
       "      <td>2023-01-02</td>\n",
       "      <td>2191867</td>\n",
       "      <td>[Manny Pangilinan, Jaime Bautista]</td>\n",
       "    </tr>\n",
       "    <tr>\n",
       "      <th>814</th>\n",
       "      <td>2023-01-02</td>\n",
       "      <td>2192002</td>\n",
       "      <td>[Jaime Bautista, Rodrigo Duterte, Manuel Tamay...</td>\n",
       "    </tr>\n",
       "    <tr>\n",
       "      <th>811</th>\n",
       "      <td>2023-01-03</td>\n",
       "      <td>2192961</td>\n",
       "      <td>[Bongbong Marcos, Rodrigo Duterte]</td>\n",
       "    </tr>\n",
       "    <tr>\n",
       "      <th>813</th>\n",
       "      <td>2023-01-03</td>\n",
       "      <td>2192645</td>\n",
       "      <td>[Ben Lee, Alidad Tash]</td>\n",
       "    </tr>\n",
       "    <tr>\n",
       "      <th>812</th>\n",
       "      <td>2023-01-03</td>\n",
       "      <td>2192871</td>\n",
       "      <td>[Leandro Leviste, Enrique Razon Jr, Manny Pang...</td>\n",
       "    </tr>\n",
       "    <tr>\n",
       "      <th>810</th>\n",
       "      <td>2023-01-04</td>\n",
       "      <td>2193115</td>\n",
       "      <td>[Joyce Lipa, Joarra Solis, Chuchi Fonacier]</td>\n",
       "    </tr>\n",
       "    <tr>\n",
       "      <th>808</th>\n",
       "      <td>2023-01-05</td>\n",
       "      <td>2194645</td>\n",
       "      <td>[Jonathan Yan, Kenneth Chow, Lucy Lu]</td>\n",
       "    </tr>\n",
       "    <tr>\n",
       "      <th>807</th>\n",
       "      <td>2023-01-05</td>\n",
       "      <td>2194666</td>\n",
       "      <td>[Yulia Svyrydenko, Denys Shmyhal, Olena Bilan]</td>\n",
       "    </tr>\n",
       "    <tr>\n",
       "      <th>809</th>\n",
       "      <td>2023-01-05</td>\n",
       "      <td>2193804</td>\n",
       "      <td>[Bongbong Marcos, Nicholas Mapa, Felipe Medall...</td>\n",
       "    </tr>\n",
       "  </tbody>\n",
       "</table>\n",
       "</div>"
      ],
      "text/plain": [
       "           date       id                                    unique_entities\n",
       "816  2023-01-01  2191765  [Jaime Bautista, Bongbong Marcos, Manuel Tamay...\n",
       "815  2023-01-02  2191867                 [Manny Pangilinan, Jaime Bautista]\n",
       "814  2023-01-02  2192002  [Jaime Bautista, Rodrigo Duterte, Manuel Tamay...\n",
       "811  2023-01-03  2192961                 [Bongbong Marcos, Rodrigo Duterte]\n",
       "813  2023-01-03  2192645                             [Ben Lee, Alidad Tash]\n",
       "812  2023-01-03  2192871  [Leandro Leviste, Enrique Razon Jr, Manny Pang...\n",
       "810  2023-01-04  2193115        [Joyce Lipa, Joarra Solis, Chuchi Fonacier]\n",
       "808  2023-01-05  2194645              [Jonathan Yan, Kenneth Chow, Lucy Lu]\n",
       "807  2023-01-05  2194666     [Yulia Svyrydenko, Denys Shmyhal, Olena Bilan]\n",
       "809  2023-01-05  2193804  [Bongbong Marcos, Nicholas Mapa, Felipe Medall..."
      ]
     },
     "execution_count": 6,
     "metadata": {},
     "output_type": "execute_result"
    }
   ],
   "source": [
    "sample.df"
   ]
  },
  {
   "cell_type": "code",
   "execution_count": 7,
   "id": "e1b0a9ef",
   "metadata": {},
   "outputs": [
    {
     "data": {
      "text/plain": [
       "0.17999342082457276"
      ]
     },
     "execution_count": 7,
     "metadata": {},
     "output_type": "execute_result"
    }
   ],
   "source": [
    "sample.aggregate_rolling_window_analysis(\n",
    "    function=average_weighted_clustering_coefficient,\n",
    "    window_panel=1,\n",
    "    mean=True)"
   ]
  },
  {
   "cell_type": "code",
   "execution_count": 8,
   "id": "29acdadf",
   "metadata": {},
   "outputs": [
    {
     "data": {
      "text/plain": [
       "0.0"
      ]
     },
     "execution_count": 8,
     "metadata": {},
     "output_type": "execute_result"
    }
   ],
   "source": [
    "sample.aggregate_rolling_window_analysis(\n",
    "    function=average_weighted_clustering_coefficient,\n",
    "    window_panel=5,\n",
    "    mean=True)"
   ]
  },
  {
   "cell_type": "code",
   "execution_count": 9,
   "id": "1534a630",
   "metadata": {},
   "outputs": [
    {
     "data": {
      "text/plain": [
       "[0.0, 0.0, 0.0, 0.0, 0.0]"
      ]
     },
     "execution_count": 9,
     "metadata": {},
     "output_type": "execute_result"
    }
   ],
   "source": [
    "sample.aggregate_rolling_window_analysis(\n",
    "    function=average_weighted_clustering_coefficient,\n",
    "    window_panel=5,\n",
    "    mean=False)"
   ]
  },
  {
   "cell_type": "code",
   "execution_count": 10,
   "id": "5a6dafee",
   "metadata": {},
   "outputs": [
    {
     "data": {
      "application/vnd.jupyter.widget-view+json": {
       "model_id": "9926dc330de64d0991c537c7eca8a018",
       "version_major": 2,
       "version_minor": 0
      },
      "text/plain": [
       "  0%|          | 0/5 [00:00<?, ?it/s]"
      ]
     },
     "metadata": {},
     "output_type": "display_data"
    },
    {
     "data": {
      "text/plain": [
       "[0.17999342082457276,\n",
       " 0.11999248094236888,\n",
       " 0.09332748517739801,\n",
       " 0.15749013123685915,\n",
       " 0.0]"
      ]
     },
     "execution_count": 10,
     "metadata": {},
     "output_type": "execute_result"
    }
   ],
   "source": [
    "sample.aggregate_rolling_window_analysis(\n",
    "    function=average_weighted_clustering_coefficient,\n",
    "    window_panel=(1,5))"
   ]
  },
  {
   "cell_type": "code",
   "execution_count": 11,
   "id": "b14ebb56",
   "metadata": {},
   "outputs": [],
   "source": [
    "whole = ArticleEntityAnalysis(df)"
   ]
  },
  {
   "cell_type": "code",
   "execution_count": 12,
   "id": "b59d8648",
   "metadata": {},
   "outputs": [
    {
     "data": {
      "text/plain": [
       "0.10121812866840822"
      ]
     },
     "execution_count": 12,
     "metadata": {},
     "output_type": "execute_result"
    }
   ],
   "source": [
    "whole.aggregate_rolling_window_analysis(\n",
    "    function=average_weighted_clustering_coefficient,\n",
    "    window_panel=1)"
   ]
  },
  {
   "cell_type": "code",
   "execution_count": 13,
   "id": "35fd0a45",
   "metadata": {},
   "outputs": [
    {
     "data": {
      "text/plain": [
       "[0.11596613549854871,\n",
       " 0.11619373382955692,\n",
       " 0.11628162394599884,\n",
       " 0.11648748837440204,\n",
       " 0.11656281199893417,\n",
       " 0.10003553890959481,\n",
       " 0.09995446269639698,\n",
       " 0.0996961712976496,\n",
       " 0.10028774522705695,\n",
       " 0.10030855385284403,\n",
       " 0.10018836806125525,\n",
       " 0.09999050205037117,\n",
       " 0.09987957783247962,\n",
       " 0.09998178478713297,\n",
       " 0.09999800960337568,\n",
       " 0.09999800960337568,\n",
       " 0.09938355737394906,\n",
       " 0.0996786766892242,\n",
       " 0.10038083533108866,\n",
       " 0.10007005882876596,\n",
       " 0.10082779086853394,\n",
       " 0.10076894894255466,\n",
       " 0.10072758130437694,\n",
       " 0.10109962330987612,\n",
       " 0.10085298954854643,\n",
       " 0.10113552483484603,\n",
       " 0.10183359912691778,\n",
       " 0.10169240716310751,\n",
       " 0.10183152126319385,\n",
       " 0.10200873211504366]"
      ]
     },
     "execution_count": 13,
     "metadata": {},
     "output_type": "execute_result"
    }
   ],
   "source": [
    "whole.aggregate_rolling_window_analysis(\n",
    "    function=average_weighted_clustering_coefficient,\n",
    "    window_panel=30,\n",
    "    mean=False)"
   ]
  },
  {
   "cell_type": "code",
   "execution_count": 14,
   "id": "942f4edd",
   "metadata": {},
   "outputs": [
    {
     "data": {
      "application/vnd.jupyter.widget-view+json": {
       "model_id": "383cac30eb7c468c85a7d821d0443fc7",
       "version_major": 2,
       "version_minor": 0
      },
      "text/plain": [
       "  0%|          | 0/5 [00:00<?, ?it/s]"
      ]
     },
     "metadata": {},
     "output_type": "display_data"
    },
    {
     "data": {
      "text/plain": [
       "[[0.10121812866840822],\n",
       " [0.10118549597609329, 0.10114048773511715],\n",
       " [0.10118549597609329, 0.10110744178351985, 0.10116487018304327],\n",
       " [0.10115366610567943,\n",
       "  0.10110744178351985,\n",
       "  0.1011326289255776,\n",
       "  0.10137336118799718],\n",
       " [0.10126595217070619,\n",
       "  0.10107520246835412,\n",
       "  0.1011326289255776,\n",
       "  0.10133982994792658,\n",
       "  0.10149851348576014]]"
      ]
     },
     "execution_count": 14,
     "metadata": {},
     "output_type": "execute_result"
    }
   ],
   "source": [
    "whole.aggregate_rolling_window_analysis(\n",
    "    function=average_weighted_clustering_coefficient,\n",
    "    window_panel=(1,5),\n",
    "    mean=False)"
   ]
  },
  {
   "cell_type": "code",
   "execution_count": 15,
   "id": "5132b9d7",
   "metadata": {},
   "outputs": [],
   "source": [
    "whole.element_rolling_window_degree_analysis(window_size=3,\n",
    "                                             plot=True,\n",
    "                                             flat_plot=True)"
   ]
  },
  {
   "cell_type": "code",
   "execution_count": 16,
   "id": "2e2e8492",
   "metadata": {},
   "outputs": [],
   "source": [
    "whole.element_rolling_window_degree_analysis(window_size=7,\n",
    "                                             plot=True,\n",
    "                                             flat_plot=True)"
   ]
  },
  {
   "cell_type": "code",
   "execution_count": 17,
   "id": "711818ed",
   "metadata": {},
   "outputs": [],
   "source": [
    "whole.element_rolling_window_degree_analysis(window_size=30,\n",
    "                                             plot=True,\n",
    "                                             flat_plot=True)"
   ]
  },
  {
   "cell_type": "code",
   "execution_count": null,
   "id": "ab8b2204",
   "metadata": {},
   "outputs": [],
   "source": []
  }
 ],
 "metadata": {
  "kernelspec": {
   "display_name": "Python 3 (ipykernel)",
   "language": "python",
   "name": "python3"
  },
  "language_info": {
   "codemirror_mode": {
    "name": "ipython",
    "version": 3
   },
   "file_extension": ".py",
   "mimetype": "text/x-python",
   "name": "python",
   "nbconvert_exporter": "python",
   "pygments_lexer": "ipython3",
   "version": "3.9.12"
  }
 },
 "nbformat": 4,
 "nbformat_minor": 5
}
