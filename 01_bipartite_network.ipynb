{
 "cells": [
  {
   "cell_type": "code",
   "execution_count": 1,
   "id": "dd4c155f",
   "metadata": {},
   "outputs": [],
   "source": [
    "import pandas as pd"
   ]
  },
  {
   "cell_type": "code",
   "execution_count": 1,
   "id": "8bac8b36",
   "metadata": {},
   "outputs": [],
   "source": [
    "import pandas as pd\n",
    "import numpy as np\n",
    "import matplotlib.pyplot as plt\n",
    "import collections\n",
    "from itertools import chain\n",
    "from datetime import datetime, timedelta\n",
    "import networkx as nx\n",
    "from networkx.algorithms import bipartite\n",
    "from tqdm.notebook import tqdm\n",
    "import imageio\n",
    "import os"
   ]
  },
  {
   "cell_type": "code",
   "execution_count": 2,
   "id": "72faa45d",
   "metadata": {},
   "outputs": [
    {
     "data": {
      "text/html": [
       "<div>\n",
       "<style scoped>\n",
       "    .dataframe tbody tr th:only-of-type {\n",
       "        vertical-align: middle;\n",
       "    }\n",
       "\n",
       "    .dataframe tbody tr th {\n",
       "        vertical-align: top;\n",
       "    }\n",
       "\n",
       "    .dataframe thead th {\n",
       "        text-align: right;\n",
       "    }\n",
       "</style>\n",
       "<table border=\"1\" class=\"dataframe\">\n",
       "  <thead>\n",
       "    <tr style=\"text-align: right;\">\n",
       "      <th></th>\n",
       "      <th>date</th>\n",
       "      <th>id</th>\n",
       "      <th>unique_entities</th>\n",
       "    </tr>\n",
       "  </thead>\n",
       "  <tbody>\n",
       "    <tr>\n",
       "      <th>0</th>\n",
       "      <td>2022-01-01 12:59:53</td>\n",
       "      <td>1542619</td>\n",
       "      <td>[Typhoon Odette, Arthur Yap]</td>\n",
       "    </tr>\n",
       "    <tr>\n",
       "      <th>1</th>\n",
       "      <td>2022-01-01 19:54:55</td>\n",
       "      <td>1543036</td>\n",
       "      <td>[Marek Drimal, Nureddin Nebati, Tayyip Erdogan]</td>\n",
       "    </tr>\n",
       "    <tr>\n",
       "      <th>2</th>\n",
       "      <td>2022-01-01 20:29:57</td>\n",
       "      <td>1543064</td>\n",
       "      <td>[Ridwan Jamaludin, Perusahaan Listrik Negara, ...</td>\n",
       "    </tr>\n",
       "    <tr>\n",
       "      <th>3</th>\n",
       "      <td>2022-01-02 11:34:10</td>\n",
       "      <td>1543150</td>\n",
       "      <td>[Ramon Lopez, Rodrigo Duterte, Typhoon Odette]</td>\n",
       "    </tr>\n",
       "    <tr>\n",
       "      <th>4</th>\n",
       "      <td>2022-01-03 21:00:57</td>\n",
       "      <td>1544290</td>\n",
       "      <td>[Perusahaan Listrik Negara, Puneet Gupta, Sri ...</td>\n",
       "    </tr>\n",
       "  </tbody>\n",
       "</table>\n",
       "</div>"
      ],
      "text/plain": [
       "                 date       id  \\\n",
       "0 2022-01-01 12:59:53  1542619   \n",
       "1 2022-01-01 19:54:55  1543036   \n",
       "2 2022-01-01 20:29:57  1543064   \n",
       "3 2022-01-02 11:34:10  1543150   \n",
       "4 2022-01-03 21:00:57  1544290   \n",
       "\n",
       "                                     unique_entities  \n",
       "0                       [Typhoon Odette, Arthur Yap]  \n",
       "1    [Marek Drimal, Nureddin Nebati, Tayyip Erdogan]  \n",
       "2  [Ridwan Jamaludin, Perusahaan Listrik Negara, ...  \n",
       "3     [Ramon Lopez, Rodrigo Duterte, Typhoon Odette]  \n",
       "4  [Perusahaan Listrik Negara, Puneet Gupta, Sri ...  "
      ]
     },
     "execution_count": 2,
     "metadata": {},
     "output_type": "execute_result"
    }
   ],
   "source": [
    "df = pd.read_csv('rappler-business-with-ner-timestep-sentiment-score.csv')\n",
    "df = df[['date', 'id', 'unique_entities']]\n",
    "df['date'] = pd.to_datetime(df['date'])\n",
    "df['unique_entities'] = [eval(l) for l in df['unique_entities']]\n",
    "df = df.sort_values('date')\n",
    "df.head()"
   ]
  },
  {
   "cell_type": "code",
   "execution_count": 3,
   "id": "8bfb48b0",
   "metadata": {},
   "outputs": [
    {
     "data": {
      "text/plain": [
       "date               datetime64[ns]\n",
       "id                          int64\n",
       "unique_entities            object\n",
       "dtype: object"
      ]
     },
     "execution_count": 3,
     "metadata": {},
     "output_type": "execute_result"
    }
   ],
   "source": [
    "df.dtypes"
   ]
  },
  {
   "cell_type": "code",
   "execution_count": null,
   "id": "db314eb0",
   "metadata": {},
   "outputs": [],
   "source": []
  },
  {
   "cell_type": "code",
   "execution_count": null,
   "id": "5ec77b4e",
   "metadata": {},
   "outputs": [],
   "source": []
  },
  {
   "cell_type": "code",
   "execution_count": null,
   "id": "57a39fe1",
   "metadata": {},
   "outputs": [],
   "source": []
  }
 ],
 "metadata": {
  "kernelspec": {
   "display_name": "Python 3 (ipykernel)",
   "language": "python",
   "name": "python3"
  },
  "language_info": {
   "codemirror_mode": {
    "name": "ipython",
    "version": 3
   },
   "file_extension": ".py",
   "mimetype": "text/x-python",
   "name": "python",
   "nbconvert_exporter": "python",
   "pygments_lexer": "ipython3",
   "version": "3.9.12"
  }
 },
 "nbformat": 4,
 "nbformat_minor": 5
}
