{
 "cells": [
  {
   "cell_type": "code",
   "execution_count": 1,
   "id": "3fb6cf9c",
   "metadata": {},
   "outputs": [],
   "source": [
    "import pandas as pd\n",
    "from system_fns import ArticleEntityAnalysis\n",
    "from system_fns import average_weighted_clustering_coefficient, average_centrality_metrics\n",
    "from tqdm.notebook import tqdm\n",
    "import numpy as np\n",
    "import matplotlib.pyplot as plt\n",
    "import seaborn as sns\n",
    "from scipy import stats"
   ]
  },
  {
   "cell_type": "code",
   "execution_count": 2,
   "id": "72faa45d",
   "metadata": {},
   "outputs": [
    {
     "data": {
      "text/html": [
       "<div>\n",
       "<style scoped>\n",
       "    .dataframe tbody tr th:only-of-type {\n",
       "        vertical-align: middle;\n",
       "    }\n",
       "\n",
       "    .dataframe tbody tr th {\n",
       "        vertical-align: top;\n",
       "    }\n",
       "\n",
       "    .dataframe thead th {\n",
       "        text-align: right;\n",
       "    }\n",
       "</style>\n",
       "<table border=\"1\" class=\"dataframe\">\n",
       "  <thead>\n",
       "    <tr style=\"text-align: right;\">\n",
       "      <th></th>\n",
       "      <th>date</th>\n",
       "      <th>id</th>\n",
       "      <th>unique_entities</th>\n",
       "    </tr>\n",
       "  </thead>\n",
       "  <tbody>\n",
       "    <tr>\n",
       "      <th>816</th>\n",
       "      <td>2023-01-01</td>\n",
       "      <td>2191765</td>\n",
       "      <td>[Jaime Bautista, Bongbong Marcos, Manuel Tamay...</td>\n",
       "    </tr>\n",
       "    <tr>\n",
       "      <th>815</th>\n",
       "      <td>2023-01-02</td>\n",
       "      <td>2191867</td>\n",
       "      <td>[Manny Pangilinan, Jaime Bautista]</td>\n",
       "    </tr>\n",
       "    <tr>\n",
       "      <th>814</th>\n",
       "      <td>2023-01-02</td>\n",
       "      <td>2192002</td>\n",
       "      <td>[Jaime Bautista, Rodrigo Duterte, Manuel Tamay...</td>\n",
       "    </tr>\n",
       "    <tr>\n",
       "      <th>811</th>\n",
       "      <td>2023-01-03</td>\n",
       "      <td>2192961</td>\n",
       "      <td>[Bongbong Marcos, Rodrigo Duterte]</td>\n",
       "    </tr>\n",
       "    <tr>\n",
       "      <th>813</th>\n",
       "      <td>2023-01-03</td>\n",
       "      <td>2192645</td>\n",
       "      <td>[Ben Lee, Alidad Tash]</td>\n",
       "    </tr>\n",
       "  </tbody>\n",
       "</table>\n",
       "</div>"
      ],
      "text/plain": [
       "           date       id                                    unique_entities\n",
       "816  2023-01-01  2191765  [Jaime Bautista, Bongbong Marcos, Manuel Tamay...\n",
       "815  2023-01-02  2191867                 [Manny Pangilinan, Jaime Bautista]\n",
       "814  2023-01-02  2192002  [Jaime Bautista, Rodrigo Duterte, Manuel Tamay...\n",
       "811  2023-01-03  2192961                 [Bongbong Marcos, Rodrigo Duterte]\n",
       "813  2023-01-03  2192645                             [Ben Lee, Alidad Tash]"
      ]
     },
     "execution_count": 2,
     "metadata": {},
     "output_type": "execute_result"
    }
   ],
   "source": [
    "df = pd.read_csv('business.csv')\n",
    "df = df[['date', 'id', 'unique_entities']]\n",
    "df['date'] = pd.to_datetime(df['date']).dt.date\n",
    "df['unique_entities'] = [eval(l) for l in df['unique_entities']]\n",
    "df = df.sort_values('date')\n",
    "df.head()"
   ]
  },
  {
   "cell_type": "code",
   "execution_count": 3,
   "id": "8bfb48b0",
   "metadata": {},
   "outputs": [
    {
     "name": "stdout",
     "output_type": "stream",
     "text": [
      "Number of unique articles: 817\n",
      "Earliest datetime record: 2023-01-01\n",
      "Latest datetime record: 2023-07-24\n"
     ]
    },
    {
     "data": {
      "text/plain": [
       "date               object\n",
       "id                  int64\n",
       "unique_entities    object\n",
       "dtype: object"
      ]
     },
     "execution_count": 3,
     "metadata": {},
     "output_type": "execute_result"
    }
   ],
   "source": [
    "print(\"Number of unique articles:\", df['id'].nunique())\n",
    "print(\"Earliest datetime record:\", df['date'].min())\n",
    "print(\"Latest datetime record:\", df['date'].max())\n",
    "df.dtypes"
   ]
  },
  {
   "cell_type": "code",
   "execution_count": 4,
   "id": "266d6974",
   "metadata": {},
   "outputs": [
    {
     "data": {
      "text/plain": [
       "205"
      ]
     },
     "execution_count": 4,
     "metadata": {},
     "output_type": "execute_result"
    }
   ],
   "source": [
    "date_scope = (df['date'].max() - df['date'].min()).days + 1\n",
    "date_scope"
   ]
  },
  {
   "cell_type": "markdown",
   "id": "0c116c2a",
   "metadata": {},
   "source": [
    "## distribution of centrality scores"
   ]
  },
  {
   "cell_type": "code",
   "execution_count": 5,
   "id": "45041178",
   "metadata": {},
   "outputs": [
    {
     "data": {
      "application/vnd.jupyter.widget-view+json": {
       "model_id": "ceb50ac990824f7fafaa8e1f23d1196b",
       "version_major": 2,
       "version_minor": 0
      },
      "text/plain": [
       "  0%|          | 0/30 [00:00<?, ?it/s]"
      ]
     },
     "metadata": {},
     "output_type": "display_data"
    }
   ],
   "source": [
    "conf = np.arange(1, 31)\n",
    "\n",
    "cent_scores_groups = dict() \n",
    "\n",
    "for i in tqdm(conf):\n",
    "    n = int(date_scope // i)\n",
    "\n",
    "    whole = ArticleEntityAnalysis(df)\n",
    "    central = whole.aggregate_rolling_window_analysis(\n",
    "        function=average_centrality_metrics,\n",
    "        window_panel=n,\n",
    "        intersect=i,\n",
    "        mean=False,\n",
    "        kind='entity')\n",
    "\n",
    "    cent_scores_groups[i] = central"
   ]
  },
  {
   "cell_type": "code",
   "execution_count": 6,
   "id": "fcf704c3",
   "metadata": {},
   "outputs": [],
   "source": [
    "deg_groups = dict() \n",
    "betw_groups = dict() \n",
    "clo_groups = dict() \n",
    "\n",
    "for i in cent_scores_groups.keys():\n",
    "    deg_scores_ts = list()\n",
    "    betw_scores_ts = list()\n",
    "    clo_scores_ts = list()\n",
    "    \n",
    "    for values in cent_scores_groups[i]:\n",
    "        deg_scores_ts.append(values[0])\n",
    "        betw_scores_ts.append(values[1])\n",
    "        clo_scores_ts.append(values[2])\n",
    "\n",
    "    deg_groups[i] = deg_scores_ts\n",
    "    betw_groups[i] = betw_scores_ts\n",
    "    clo_groups[i] = clo_scores_ts"
   ]
  },
  {
   "cell_type": "code",
   "execution_count": 13,
   "id": "ec573200",
   "metadata": {},
   "outputs": [
    {
     "name": "stderr",
     "output_type": "stream",
     "text": [
      "/var/folders/tv/psypbvx97n74gbz8rcln8f8m0000gn/T/ipykernel_2744/1036845835.py:8: RuntimeWarning: ks_2samp: Exact calculation unsuccessful. Switching to method=asymp.\n",
      "  p_pairs.append(stats.ks_2samp(sample1, sample2).pvalue)\n"
     ]
    },
    {
     "data": {
      "image/png": "[encoded data removed]",
      "text/plain": [
       "<Figure size 640x480 with 2 Axes>"
      ]
     },
     "metadata": {},
     "output_type": "display_data"
    }
   ],
   "source": [
    "pvals = dict()\n",
    "\n",
    "for i in deg_groups.keys():\n",
    "    p_pairs = []\n",
    "    for j in deg_groups.keys():\n",
    "        sample1 = deg_groups[i]\n",
    "        sample2 = deg_groups[j]\n",
    "        p_pairs.append(stats.ks_2samp(sample1, sample2).pvalue)\n",
    "    pvals[i] = p_pairs\n",
    "            \n",
    "results = pd.DataFrame(pvals)\n",
    "\n",
    "# should always be a window, not daily\n",
    "sns.heatmap(results < 0.05);"
   ]
  },
  {
   "cell_type": "code",
   "execution_count": 8,
   "id": "59fda9c8",
   "metadata": {},
   "outputs": [
    {
     "name": "stderr",
     "output_type": "stream",
     "text": [
      "/var/folders/tv/psypbvx97n74gbz8rcln8f8m0000gn/T/ipykernel_2744/2942033518.py:8: RuntimeWarning: ks_2samp: Exact calculation unsuccessful. Switching to method=asymp.\n",
      "  p_pairs.append(stats.ks_2samp(sample1, sample2).pvalue)\n"
     ]
    },
    {
     "data": {
      "image/png": "[encoded data removed]",
      "text/plain": [
       "<Figure size 640x480 with 2 Axes>"
      ]
     },
     "metadata": {},
     "output_type": "display_data"
    }
   ],
   "source": [
    "pvals = dict()\n",
    "\n",
    "for i in betw_groups.keys():\n",
    "    p_pairs = []\n",
    "    for j in betw_groups.keys():\n",
    "        sample1 = betw_groups[i]\n",
    "        sample2 = betw_groups[j]\n",
    "        p_pairs.append(stats.ks_2samp(sample1, sample2).pvalue)\n",
    "    pvals[i] = p_pairs\n",
    "            \n",
    "results = pd.DataFrame(pvals)\n",
    "\n",
    "# should always be a window, not daily\n",
    "sns.heatmap(results < 0.05);"
   ]
  },
  {
   "cell_type": "code",
   "execution_count": 9,
   "id": "718d34ec",
   "metadata": {},
   "outputs": [
    {
     "name": "stderr",
     "output_type": "stream",
     "text": [
      "/var/folders/tv/psypbvx97n74gbz8rcln8f8m0000gn/T/ipykernel_2744/1380613032.py:8: RuntimeWarning: ks_2samp: Exact calculation unsuccessful. Switching to method=asymp.\n",
      "  p_pairs.append(stats.ks_2samp(sample1, sample2).pvalue)\n"
     ]
    },
    {
     "data": {
      "image/png": "[encoded data removed]",
      "text/plain": [
       "<Figure size 640x480 with 2 Axes>"
      ]
     },
     "metadata": {},
     "output_type": "display_data"
    }
   ],
   "source": [
    "pvals = dict()\n",
    "\n",
    "for i in clo_groups.keys():\n",
    "    p_pairs = []\n",
    "    for j in clo_groups.keys():\n",
    "        sample1 = clo_groups[i]\n",
    "        sample2 = clo_groups[j]\n",
    "        p_pairs.append(stats.ks_2samp(sample1, sample2).pvalue)\n",
    "    pvals[i] = p_pairs\n",
    "            \n",
    "results = pd.DataFrame(pvals)\n",
    "\n",
    "# should always be a window, not daily\n",
    "sns.heatmap(results < 0.05);"
   ]
  },
  {
   "cell_type": "markdown",
   "id": "10139cbf",
   "metadata": {},
   "source": [
    "## distribution of clustering coefficients"
   ]
  },
  {
   "cell_type": "code",
   "execution_count": 10,
   "id": "b14ebb56",
   "metadata": {
    "scrolled": true
   },
   "outputs": [
    {
     "data": {
      "application/vnd.jupyter.widget-view+json": {
       "model_id": "49e2f4dfb74849db9af44dcec110bf32",
       "version_major": 2,
       "version_minor": 0
      },
      "text/plain": [
       "  0%|          | 0/30 [00:00<?, ?it/s]"
      ]
     },
     "metadata": {},
     "output_type": "display_data"
    }
   ],
   "source": [
    "conf = np.arange(1, 31)#[1, 7, 14, 30, 60, 90]\n",
    "\n",
    "clus_coefs_groups = dict() \n",
    "for i in tqdm(conf):\n",
    "#     n = date_scope - i + 2\n",
    "#     print(i)\n",
    "    n = int(date_scope // i)\n",
    "\n",
    "    whole = ArticleEntityAnalysis(df)\n",
    "    clus_coefs = whole.aggregate_rolling_window_analysis(\n",
    "        function=average_weighted_clustering_coefficient,\n",
    "        window_panel=n,\n",
    "        intersect=i,\n",
    "        mean=False,\n",
    "        kind='entity')\n",
    "\n",
    "    clus_coefs_groups[i] = clus_coefs"
   ]
  },
  {
   "cell_type": "code",
   "execution_count": 11,
   "id": "bafb0f06",
   "metadata": {},
   "outputs": [
    {
     "name": "stderr",
     "output_type": "stream",
     "text": [
      "/var/folders/tv/psypbvx97n74gbz8rcln8f8m0000gn/T/ipykernel_2744/566517448.py:8: RuntimeWarning: ks_2samp: Exact calculation unsuccessful. Switching to method=asymp.\n",
      "  p_pairs.append(stats.ks_2samp(sample1, sample2).pvalue)\n"
     ]
    },
    {
     "data": {
      "image/png": "[encoded data removed]",
      "text/plain": [
       "<Figure size 640x480 with 2 Axes>"
      ]
     },
     "metadata": {},
     "output_type": "display_data"
    }
   ],
   "source": [
    "pvals = dict()\n",
    "\n",
    "for i in clus_coefs_groups.keys():\n",
    "    p_pairs = []\n",
    "    for j in clus_coefs_groups.keys():\n",
    "        sample1 = clus_coefs_groups[i]\n",
    "        sample2 = clus_coefs_groups[j]\n",
    "        p_pairs.append(stats.ks_2samp(sample1, sample2).pvalue)\n",
    "    pvals[i] = p_pairs\n",
    "            \n",
    "results = pd.DataFrame(pvals)\n",
    "\n",
    "# should always be a window, not daily\n",
    "sns.heatmap(results < 0.05);"
   ]
  },
  {
   "cell_type": "markdown",
   "id": "2229605b",
   "metadata": {},
   "source": [
    "## plots for story"
   ]
  },
  {
   "cell_type": "code",
   "execution_count": 16,
   "id": "5c6acd12",
   "metadata": {},
   "outputs": [],
   "source": [
    "whole.element_rolling_window_degree_analysis(\n",
    "    p=5,\n",
    "    window_size=3,\n",
    "    kind='entity',\n",
    "    plot=True,\n",
    ")"
   ]
  },
  {
   "cell_type": "code",
   "execution_count": 17,
   "id": "b37ca912",
   "metadata": {},
   "outputs": [],
   "source": [
    "whole.element_rolling_window_degree_analysis(\n",
    "    p=5,\n",
    "    window_size=7,\n",
    "    kind='entity',\n",
    "    plot=True,\n",
    ")"
   ]
  },
  {
   "cell_type": "code",
   "execution_count": 18,
   "id": "5b2c17b5",
   "metadata": {},
   "outputs": [],
   "source": [
    "whole.element_rolling_window_degree_analysis(\n",
    "    p=5,\n",
    "    window_size=30,\n",
    "    kind='entity',\n",
    "    plot=True,\n",
    ")"
   ]
  }
 ],
 "metadata": {
  "kernelspec": {
   "display_name": "Python 3 (ipykernel)",
   "language": "python",
   "name": "python3"
  },
  "language_info": {
   "codemirror_mode": {
    "name": "ipython",
    "version": 3
   },
   "file_extension": ".py",
   "mimetype": "text/x-python",
   "name": "python",
   "nbconvert_exporter": "python",
   "pygments_lexer": "ipython3",
   "version": "3.10.10"
  },
  "toc": {
   "base_numbering": 1,
   "nav_menu": {},
   "number_sections": true,
   "sideBar": true,
   "skip_h1_title": false,
   "title_cell": "Table of Contents",
   "title_sidebar": "Contents",
   "toc_cell": false,
   "toc_position": {},
   "toc_section_display": true,
   "toc_window_display": false
  }
 },
 "nbformat": 4,
 "nbformat_minor": 5
}
