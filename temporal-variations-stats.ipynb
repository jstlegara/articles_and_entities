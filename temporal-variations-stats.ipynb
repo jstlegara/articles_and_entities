{
 "cells": [
  {
   "cell_type": "code",
   "execution_count": 1,
   "id": "3fb6cf9c",
   "metadata": {},
   "outputs": [],
   "source": [
    "import pandas as pd\n",
    "from system_fns import ArticleEntityAnalysis\n",
    "from system_fns import average_weighted_clustering_coefficient\n",
    "from tqdm.notebook import tqdm"
   ]
  },
  {
   "cell_type": "code",
   "execution_count": 2,
   "id": "72faa45d",
   "metadata": {},
   "outputs": [
    {
     "data": {
      "text/html": [
       "<div>\n",
       "<style scoped>\n",
       "    .dataframe tbody tr th:only-of-type {\n",
       "        vertical-align: middle;\n",
       "    }\n",
       "\n",
       "    .dataframe tbody tr th {\n",
       "        vertical-align: top;\n",
       "    }\n",
       "\n",
       "    .dataframe thead th {\n",
       "        text-align: right;\n",
       "    }\n",
       "</style>\n",
       "<table border=\"1\" class=\"dataframe\">\n",
       "  <thead>\n",
       "    <tr style=\"text-align: right;\">\n",
       "      <th></th>\n",
       "      <th>date</th>\n",
       "      <th>id</th>\n",
       "      <th>unique_entities</th>\n",
       "    </tr>\n",
       "  </thead>\n",
       "  <tbody>\n",
       "    <tr>\n",
       "      <th>816</th>\n",
       "      <td>2023-01-01</td>\n",
       "      <td>2191765</td>\n",
       "      <td>[Jaime Bautista, Bongbong Marcos, Manuel Tamay...</td>\n",
       "    </tr>\n",
       "    <tr>\n",
       "      <th>815</th>\n",
       "      <td>2023-01-02</td>\n",
       "      <td>2191867</td>\n",
       "      <td>[Manny Pangilinan, Jaime Bautista]</td>\n",
       "    </tr>\n",
       "    <tr>\n",
       "      <th>814</th>\n",
       "      <td>2023-01-02</td>\n",
       "      <td>2192002</td>\n",
       "      <td>[Jaime Bautista, Rodrigo Duterte, Manuel Tamay...</td>\n",
       "    </tr>\n",
       "    <tr>\n",
       "      <th>811</th>\n",
       "      <td>2023-01-03</td>\n",
       "      <td>2192961</td>\n",
       "      <td>[Bongbong Marcos, Rodrigo Duterte]</td>\n",
       "    </tr>\n",
       "    <tr>\n",
       "      <th>813</th>\n",
       "      <td>2023-01-03</td>\n",
       "      <td>2192645</td>\n",
       "      <td>[Ben Lee, Alidad Tash]</td>\n",
       "    </tr>\n",
       "  </tbody>\n",
       "</table>\n",
       "</div>"
      ],
      "text/plain": [
       "           date       id                                    unique_entities\n",
       "816  2023-01-01  2191765  [Jaime Bautista, Bongbong Marcos, Manuel Tamay...\n",
       "815  2023-01-02  2191867                 [Manny Pangilinan, Jaime Bautista]\n",
       "814  2023-01-02  2192002  [Jaime Bautista, Rodrigo Duterte, Manuel Tamay...\n",
       "811  2023-01-03  2192961                 [Bongbong Marcos, Rodrigo Duterte]\n",
       "813  2023-01-03  2192645                             [Ben Lee, Alidad Tash]"
      ]
     },
     "execution_count": 2,
     "metadata": {},
     "output_type": "execute_result"
    }
   ],
   "source": [
    "df = pd.read_csv('business.csv')\n",
    "df = df[['date', 'id', 'unique_entities']]\n",
    "df['date'] = pd.to_datetime(df['date']).dt.date\n",
    "df['unique_entities'] = [eval(l) for l in df['unique_entities']]\n",
    "df = df.sort_values('date')\n",
    "df.head()"
   ]
  },
  {
   "cell_type": "code",
   "execution_count": 3,
   "id": "8bfb48b0",
   "metadata": {},
   "outputs": [
    {
     "name": "stdout",
     "output_type": "stream",
     "text": [
      "Number of unique articles: 817\n",
      "Earliest datetime record: 2023-01-01\n",
      "Latest datetime record: 2023-07-24\n"
     ]
    },
    {
     "data": {
      "text/plain": [
       "date               object\n",
       "id                  int64\n",
       "unique_entities    object\n",
       "dtype: object"
      ]
     },
     "execution_count": 3,
     "metadata": {},
     "output_type": "execute_result"
    }
   ],
   "source": [
    "print(\"Number of unique articles:\", df['id'].nunique())\n",
    "print(\"Earliest datetime record:\", df['date'].min())\n",
    "print(\"Latest datetime record:\", df['date'].max())\n",
    "df.dtypes"
   ]
  },
  {
   "cell_type": "code",
   "execution_count": 4,
   "id": "266d6974",
   "metadata": {},
   "outputs": [
    {
     "data": {
      "text/plain": [
       "204"
      ]
     },
     "execution_count": 4,
     "metadata": {},
     "output_type": "execute_result"
    }
   ],
   "source": [
    "date_scope = (df['date'].max() - df['date'].min()).days\n",
    "date_scope"
   ]
  },
  {
   "cell_type": "code",
   "execution_count": 10,
   "id": "b14ebb56",
   "metadata": {},
   "outputs": [
    {
     "data": {
      "application/vnd.jupyter.widget-view+json": {
       "model_id": "95bc7c54823b4653beeff076ed96d932",
       "version_major": 2,
       "version_minor": 0
      },
      "text/plain": [
       "  0%|          | 0/6 [00:00<?, ?it/s]"
      ]
     },
     "metadata": {},
     "output_type": "display_data"
    }
   ],
   "source": [
    "conf = [2, 7, 14, 30, 60, 90]\n",
    "\n",
    "clus_coefs_groups = dict() \n",
    "for i in tqdm(conf[::-1]):\n",
    "    if date_scope % i == 0:\n",
    "        n = date_scope // i\n",
    "    else:\n",
    "        n = (date_scope // i) + 1\n",
    "\n",
    "    whole = ArticleEntityAnalysis(df)\n",
    "    clus_coefs = whole.aggregate_rolling_window_analysis(\n",
    "        function=average_weighted_clustering_coefficient,\n",
    "        window_panel=n,\n",
    "        intersect=i,\n",
    "        mean=False,\n",
    "        kind='entity')\n",
    "\n",
    "    clus_coefs_groups[i] = clus_coefs"
   ]
  },
  {
   "cell_type": "code",
   "execution_count": 11,
   "id": "b4949138",
   "metadata": {
    "scrolled": true
   },
   "outputs": [],
   "source": [
    "# !pip install scikit-posthocs"
   ]
  },
  {
   "cell_type": "code",
   "execution_count": 12,
   "id": "85eb5f38",
   "metadata": {},
   "outputs": [
    {
     "name": "stdout",
     "output_type": "stream",
     "text": [
      "KruskalResult(statistic=9.024856683460541, pvalue=0.10807680638521595)\n"
     ]
    }
   ],
   "source": [
    "from scipy import stats\n",
    "import scikit_posthocs as sp\n",
    "\n",
    "post_hoc_groups = clus_coefs_groups.copy()\n",
    "significant_granularity = None\n",
    "\n",
    "for conf in clus_coefs_groups.keys():\n",
    "    if len(post_hoc_groups) >= 2:\n",
    "        result = stats.kruskal(*post_hoc_groups.values())\n",
    "        print(result)\n",
    "        if result.pvalue < 0.05:\n",
    "            print(f'{conf} days temporal granularity.')\n",
    "            results = sp.posthoc_dunn([*post_hoc_groups.values()], p_adjust='bonferroni')\n",
    "            significant_granularity = conf\n",
    "            display(results)\n",
    "        else:\n",
    "            break\n",
    "        \n",
    "    post_hoc_groups.pop(conf)"
   ]
  },
  {
   "cell_type": "code",
   "execution_count": 13,
   "id": "5c6acd12",
   "metadata": {},
   "outputs": [],
   "source": [
    "whole.element_rolling_window_degree_analysis(\n",
    "    p=5,\n",
    "    window_size=7,\n",
    "    kind='entity',\n",
    "    plot=True,\n",
    ")"
   ]
  },
  {
   "cell_type": "code",
   "execution_count": null,
   "id": "efec73cd",
   "metadata": {},
   "outputs": [],
   "source": []
  }
 ],
 "metadata": {
  "kernelspec": {
   "display_name": "Python 3 (ipykernel)",
   "language": "python",
   "name": "python3"
  },
  "language_info": {
   "codemirror_mode": {
    "name": "ipython",
    "version": 3
   },
   "file_extension": ".py",
   "mimetype": "text/x-python",
   "name": "python",
   "nbconvert_exporter": "python",
   "pygments_lexer": "ipython3",
   "version": "3.10.10"
  },
  "toc": {
   "base_numbering": 1,
   "nav_menu": {},
   "number_sections": true,
   "sideBar": true,
   "skip_h1_title": false,
   "title_cell": "Table of Contents",
   "title_sidebar": "Contents",
   "toc_cell": false,
   "toc_position": {},
   "toc_section_display": true,
   "toc_window_display": false
  }
 },
 "nbformat": 4,
 "nbformat_minor": 5
}
